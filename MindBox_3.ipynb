{
  "nbformat": 4,
  "nbformat_minor": 0,
  "metadata": {
    "colab": {
      "provenance": [],
      "authorship_tag": "ABX9TyMJka/9SXOVhQiS9NrcOrcQ",
      "include_colab_link": true
    },
    "kernelspec": {
      "name": "python3",
      "display_name": "Python 3"
    },
    "language_info": {
      "name": "python"
    }
  },
  "cells": [
    {
      "cell_type": "markdown",
      "metadata": {
        "id": "view-in-github",
        "colab_type": "text"
      },
      "source": [
        "<a href=\"https://colab.research.google.com/github/aazat3/MindBox3/blob/main/MindBox_3.ipynb\" target=\"_parent\"><img src=\"https://colab.research.google.com/assets/colab-badge.svg\" alt=\"Open In Colab\"/></a>"
      ]
    },
    {
      "cell_type": "code",
      "source": [
        "!pip install pyspark"
      ],
      "metadata": {
        "colab": {
          "base_uri": "https://localhost:8080/"
        },
        "id": "5ZwQpKswD4Lp",
        "outputId": "57bc67e2-15da-4112-f785-50c7d375fa3d"
      },
      "execution_count": null,
      "outputs": [
        {
          "output_type": "stream",
          "name": "stdout",
          "text": [
            "Collecting pyspark\n",
            "  Downloading pyspark-3.5.1.tar.gz (317.0 MB)\n",
            "\u001b[2K     \u001b[90m━━━━━━━━━━━━━━━━━━━━━━━━━━━━━━━━━━━━━━━━\u001b[0m \u001b[32m317.0/317.0 MB\u001b[0m \u001b[31m4.1 MB/s\u001b[0m eta \u001b[36m0:00:00\u001b[0m\n",
            "\u001b[?25h  Preparing metadata (setup.py) ... \u001b[?25l\u001b[?25hdone\n",
            "Requirement already satisfied: py4j==0.10.9.7 in /usr/local/lib/python3.10/dist-packages (from pyspark) (0.10.9.7)\n",
            "Building wheels for collected packages: pyspark\n",
            "  Building wheel for pyspark (setup.py) ... \u001b[?25l\u001b[?25hdone\n",
            "  Created wheel for pyspark: filename=pyspark-3.5.1-py2.py3-none-any.whl size=317488491 sha256=0744811c0d19ae5457ca1dbd3e43da3f942505be0ff506b1033a1c1208621bd1\n",
            "  Stored in directory: /root/.cache/pip/wheels/80/1d/60/2c256ed38dddce2fdd93be545214a63e02fbd8d74fb0b7f3a6\n",
            "Successfully built pyspark\n",
            "Installing collected packages: pyspark\n",
            "Successfully installed pyspark-3.5.1\n"
          ]
        }
      ]
    },
    {
      "cell_type": "code",
      "execution_count": null,
      "metadata": {
        "colab": {
          "base_uri": "https://localhost:8080/"
        },
        "id": "_QGvQSv-DxLw",
        "outputId": "215aa0ed-13c1-45cd-f73e-b87cd3153f9a"
      },
      "outputs": [
        {
          "output_type": "stream",
          "name": "stdout",
          "text": [
            "+------------------+\n",
            "|  product_category|\n",
            "+------------------+\n",
            "|product1-category1|\n",
            "|product2-category2|\n",
            "|product1-category2|\n",
            "|          product3|\n",
            "+------------------+\n",
            "\n"
          ]
        }
      ],
      "source": [
        "from pyspark.sql import SparkSession\n",
        "from pyspark.sql.functions import col, concat_ws\n",
        "\n",
        "\n",
        "def get_product_category_pairs_with_no_category(products_df, categories_df, products_categories_data):\n",
        "    # Выполняем объединение продуктов и категорий по соответствующему столбцу\n",
        "    products_with_categories_df = products_df\\\n",
        "        .join(products_categories_data, products_df[\"product_id\"] == products_categories_data[\"product_id\"], \"inner\")\\\n",
        "        .join(categories_df, products_categories_data[\"category_id\"] == categories_df[\"category_id\"], \"inner\")\\\n",
        "        .select(products_df[\"product_name\"], categories_df[\"category_name\"])\n",
        "\n",
        "    # Выполняем объединение имени продукта и имени категории\n",
        "    products_categories_df = products_with_categories_df.withColumn(\"product_category\", concat_ws(\"-\" ,col(\"product_name\"), col(\"category_name\")))\n",
        "    products_categories_df = products_categories_df.select(products_categories_df[\"product_category\"])\n",
        "\n",
        "\n",
        "    # Ищем продукты без категории\n",
        "    products_with_no_category_df = products_df\\\n",
        "        .join(products_categories_data, products_df[\"product_id\"] == products_categories_data[\"product_id\"], \"leftanti\")\\\n",
        "        .select(products_df[\"product_name\"])\n",
        "\n",
        "    # Объединяем датафреймы\n",
        "    result_df = products_categories_df.union(products_with_no_category_df)\n",
        "\n",
        "    return result_df\n",
        "\n",
        "\n",
        "# Пример использования:\n",
        "if __name__ == \"__main__\":\n",
        "    spark = SparkSession.builder \\\n",
        "        .appName(\"ProductCategoryPairs\") \\\n",
        "        .getOrCreate()\n",
        "\n",
        "    # Пример данных для продуктов\n",
        "    products_data = [(1, \"product1\"),\n",
        "                     (2, \"product2\"),\n",
        "                     (3, \"product3\")]\n",
        "\n",
        "    # Пример данных для категорий\n",
        "    categories_data = [(1, \"category1\"),\n",
        "                       (2, \"category2\"),\n",
        "                       (3, \"category3\")]\n",
        "\n",
        "    # Пример данных для связи продукта и категории (из-за связи многие ко многим)\n",
        "    products_categories_data = [(1, 1),\n",
        "                                (1, 2),\n",
        "                                (2, 2)]\n",
        "\n",
        "    products_df = spark.createDataFrame(products_data, [\"product_id\", \"product_name\"])\n",
        "    categories_df = spark.createDataFrame(categories_data, [\"category_id\", \"category_name\"])\n",
        "    products_categories_data = spark.createDataFrame(products_categories_data, [\"product_id\", \"category_id\"])\n",
        "\n",
        "    result_df = get_product_category_pairs_with_no_category(products_df, categories_df, products_categories_data)\n",
        "    result_df.show()\n",
        "\n",
        "    spark.stop()\n"
      ]
    }
  ]
}